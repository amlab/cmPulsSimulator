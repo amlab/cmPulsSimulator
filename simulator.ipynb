{
  "nbformat": 4,
  "nbformat_minor": 0,
  "metadata": {
    "colab": {
      "name": "Untitled1.ipynb",
      "provenance": [],
      "authorship_tag": "ABX9TyPVhsvVjy6HP/f6lUKp5rXl",
      "include_colab_link": true
    },
    "kernelspec": {
      "name": "python3",
      "display_name": "Python 3"
    },
    "language_info": {
      "name": "python"
    }
  },
  "cells": [
    {
      "cell_type": "markdown",
      "metadata": {
        "id": "view-in-github",
        "colab_type": "text"
      },
      "source": [
        "<a href=\"https://colab.research.google.com/github/amlab/cmPulsSimulator/blob/main/simulator.ipynb\" target=\"_parent\"><img src=\"https://colab.research.google.com/assets/colab-badge.svg\" alt=\"Open In Colab\"/></a>"
      ]
    },
    {
      "cell_type": "code",
      "metadata": {
        "id": "j8X5JH97gwmi",
        "colab": {
          "base_uri": "https://localhost:8080/",
          "height": 17
        },
        "outputId": "f9587c6c-aee8-452b-8b9f-3a4ffcbcf771"
      },
      "source": [
        "#@title Time-lapse image simulator of bitting cardiomyocytes calcium fluxes. { form-width: \"800px\", display-mode: \"form\" }\n",
        "\n",
        "from skimage import io\n",
        "import numpy as np\n",
        "import math \n",
        "\n",
        "Frame_numbers = 1000 #@param {type:\"integer\"}\n",
        "Image_height = 128 #@param {type:\"integer\"}\n",
        "Image_width = 128 #@param {type:\"integer\"}\n",
        "Background_luminosity = 15000 #@param {type:\"integer\"}\n",
        "Background_luminosity_variation = 3000 #@param {type:\"integer\"}\n",
        "Active_spot_radius = 10 #@param {type:\"integer\"}\n",
        "Active_spot_x_position = 64 #@param {type:\"integer\"}\n",
        "Active_spot_y_position = 64 #@param {type:\"integer\"}\n",
        "Active_spot_luminosity_amplitude = 10000 #@param {type:\"integer\"}\n",
        "Active_spot_frames_per_period = 100 #@param {type:\"integer\"}\n",
        "\n",
        "imSize=[Frame_numbers, Image_height, Image_width]\n",
        "msk = np.full((imSize[1],imSize[2]), False, dtype=bool)\n",
        "for i in range(0,imSize[1]):\n",
        "    for j in range(0,imSize[1]):\n",
        "        msk[i,j]= ((i-Active_spot_x_position)**2+\\\n",
        "                   (j-Active_spot_y_position)**2 < Active_spot_radius**2)\n",
        "\n",
        "im = np.random.normal(loc = Background_luminosity, \n",
        "                      scale = Background_luminosity_variation, \n",
        "                      size = imSize).astype(np.uint16)\n",
        "for i in range(0, im.shape[0]):\n",
        "    im[i,:,:]=np.ma.filled(np.ma.array(im[i,:,:], mask=msk), im[i,:,:]+\n",
        "                           Active_spot_luminosity_amplitude*\n",
        "                           math.sin(i*math.pi/Active_spot_frames_per_period)**2)\n",
        "\n",
        "io.imsave('simulation.tif', im)\n",
        "from google.colab import files\n",
        "files.download('simulation.tif')\n"
      ],
      "execution_count": 1,
      "outputs": [
        {
          "output_type": "display_data",
          "data": {
            "application/javascript": [
              "\n",
              "    async function download(id, filename, size) {\n",
              "      if (!google.colab.kernel.accessAllowed) {\n",
              "        return;\n",
              "      }\n",
              "      const div = document.createElement('div');\n",
              "      const label = document.createElement('label');\n",
              "      label.textContent = `Downloading \"${filename}\": `;\n",
              "      div.appendChild(label);\n",
              "      const progress = document.createElement('progress');\n",
              "      progress.max = size;\n",
              "      div.appendChild(progress);\n",
              "      document.body.appendChild(div);\n",
              "\n",
              "      const buffers = [];\n",
              "      let downloaded = 0;\n",
              "\n",
              "      const channel = await google.colab.kernel.comms.open(id);\n",
              "      // Send a message to notify the kernel that we're ready.\n",
              "      channel.send({})\n",
              "\n",
              "      for await (const message of channel.messages) {\n",
              "        // Send a message to notify the kernel that we're ready.\n",
              "        channel.send({})\n",
              "        if (message.buffers) {\n",
              "          for (const buffer of message.buffers) {\n",
              "            buffers.push(buffer);\n",
              "            downloaded += buffer.byteLength;\n",
              "            progress.value = downloaded;\n",
              "          }\n",
              "        }\n",
              "      }\n",
              "      const blob = new Blob(buffers, {type: 'application/binary'});\n",
              "      const a = document.createElement('a');\n",
              "      a.href = window.URL.createObjectURL(blob);\n",
              "      a.download = filename;\n",
              "      div.appendChild(a);\n",
              "      a.click();\n",
              "      div.remove();\n",
              "    }\n",
              "  "
            ],
            "text/plain": [
              "<IPython.core.display.Javascript object>"
            ]
          },
          "metadata": {}
        },
        {
          "output_type": "display_data",
          "data": {
            "application/javascript": [
              "download(\"download_1455a5b6-5804-4a33-9833-3895efff799b\", \"simulation.tif\", 32934090)"
            ],
            "text/plain": [
              "<IPython.core.display.Javascript object>"
            ]
          },
          "metadata": {}
        }
      ]
    }
  ]
}