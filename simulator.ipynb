#@title Time-lapse image simulator of bitting cardiomyocytes calcium fluxes.

from skimage import io
import numpy as np
import math 

Frame_numbers = 1000 #@param {type:"integer"}
Image_height = 128 #@param {type:"integer"}
Image_width = 128 #@param {type:"integer"}
Background_luminosity = 15000 #@param {type:"integer"}
Background_luminosity_variation = 3000 #@param {type:"integer"}
Active_spot_radius = 10 #@param {type:"integer"}
Active_spot_x_position = 64 #@param {type:"integer"}
Active_spot_y_position = 64 #@param {type:"integer"}
Active_spot_luminosity_amplitude = 10000 #@param {type:"integer"}
Active_spot_frames_per_period = 100 #@param {type:"integer"}

imSize=[Frame_numbers, Image_height, Image_width]
msk = np.full((imSize[1],imSize[2]), False, dtype=bool)
for i in range(0,imSize[1]):
    for j in range(0,imSize[1]):
        msk[i,j]= ((i-Active_spot_x_position)**2+\
                   (j-Active_spot_y_position)**2 < Active_spot_radius**2)

im = np.random.normal(loc = Background_luminosity, 
                      scale = Background_luminosity_variation, 
                      size = imSize).astype(np.uint16)
for i in range(0, im.shape[0]):
    im[i,:,:]=np.ma.filled(np.ma.array(im[i,:,:], mask=msk), im[i,:,:]+
                           Active_spot_luminosity_amplitude*
                           math.sin(i*math.pi/Active_spot_frames_per_period)**2)

io.imsave('simulation.tif', im)
from google.colab import files
files.download('simulation.tif')
